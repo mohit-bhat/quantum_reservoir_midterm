{
 "cells": [
  {
   "cell_type": "code",
   "execution_count": 1,
   "metadata": {},
   "outputs": [
    {
     "name": "stdout",
     "output_type": "stream",
     "text": [
      "Addition (2 + 3): 5\n",
      "Subtraction (5 - 2): 3\n",
      "Multiplication (4 * 3): 12\n",
      "Division (10 / 2): 5.0\n",
      "Division by zero (10 / 0): Division by zero is not allowed\n"
     ]
    }
   ],
   "source": [
    "# Basic Python test code\n",
    "\n",
    "def add(a, b):\n",
    "    return a + b\n",
    "\n",
    "def subtract(a, b):\n",
    "    return a - b\n",
    "\n",
    "def multiply(a, b):\n",
    "    return a * b\n",
    "\n",
    "def divide(a, b):\n",
    "    if b == 0:\n",
    "        return \"Division by zero is not allowed\"\n",
    "    return a / b\n",
    "\n",
    "# Test cases\n",
    "print(\"Addition (2 + 3):\", add(2, 3))\n",
    "print(\"Subtraction (5 - 2):\", subtract(5, 2))\n",
    "print(\"Multiplication (4 * 3):\", multiply(4, 3))\n",
    "print(\"Division (10 / 2):\", divide(10, 2))\n",
    "print(\"Division by zero (10 / 0):\", divide(10, 0))"
   ]
  }
 ],
 "metadata": {
  "kernelspec": {
   "display_name": "ECEN5001",
   "language": "python",
   "name": "python3"
  },
  "language_info": {
   "codemirror_mode": {
    "name": "ipython",
    "version": 3
   },
   "file_extension": ".py",
   "mimetype": "text/x-python",
   "name": "python",
   "nbconvert_exporter": "python",
   "pygments_lexer": "ipython3",
   "version": "3.13.2"
  }
 },
 "nbformat": 4,
 "nbformat_minor": 2
}
